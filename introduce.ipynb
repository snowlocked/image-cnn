{
 "cells": [
  {
   "cell_type": "markdown",
   "metadata": {},
   "source": [
    "# 图片卷积及应用"
   ]
  },
  {
   "cell_type": "markdown",
   "metadata": {},
   "source": [
    "## 卷积的计算 Convolution"
   ]
  },
  {
   "cell_type": "markdown",
   "metadata": {},
   "source": [
    "公式\n",
    "$$ \n",
    "h(x) = {\\int_{-\\infty}^{+\\infty}}f(\\tau)g(x-\\tau)d\\tau\n",
    "$$"
   ]
  },
  {
   "cell_type": "markdown",
   "metadata": {},
   "source": [
    "简易表达式\n",
    "$$ \n",
    "h(x) = (f*g)(x) \n",
    "$$"
   ]
  },
  {
   "cell_type": "markdown",
   "metadata": {},
   "source": [
    "数字处理时将其离散化\n",
    "$$ \n",
    "(f*g)(n) = \\sum_{m=-\\infty}^{m=+\\infty}f(m)g(n-m) \n",
    "$$"
   ]
  },
  {
   "cell_type": "markdown",
   "metadata": {},
   "source": [
    "更多解释参考[wiki](https://zh.wikipedia.org/wiki/%E5%8D%B7%E7%A7%AF)"
   ]
  },
  {
   "cell_type": "markdown",
   "metadata": {},
   "source": [
    "## 图片的卷积"
   ]
  },
  {
   "cell_type": "markdown",
   "metadata": {},
   "source": [
    "1. 图片数字化\n",
    "2. 卷积核\n",
    "3. 图片与卷积核计算的公式\n",
    "4. 计算后的结果"
   ]
  },
  {
   "cell_type": "markdown",
   "metadata": {},
   "source": [
    "![img](./assets/1.png)"
   ]
  },
  {
   "cell_type": "markdown",
   "metadata": {},
   "source": [
    "## 图像识别"
   ]
  },
  {
   "cell_type": "markdown",
   "metadata": {},
   "source": [
    "1. 基础算法cNN，卷积神经网络\n",
    "2. 通过各种模块搭建不同的卷积网络（Alexnet，VGGNets，GoogLeNet，ResNet，MobileNet，MobileNetv2，shufflenet(v1,v2,v3)...）识别\n",
    "3. 目标检测与定位\n",
    "4. 前景和背景识别\n",
    "5. 视频识别\n",
    "6. 图像生成"
   ]
  },
  {
   "cell_type": "code",
   "execution_count": null,
   "metadata": {},
   "outputs": [],
   "source": []
  }
 ],
 "metadata": {
  "kernelspec": {
   "display_name": "Python 3",
   "language": "python",
   "name": "python3"
  },
  "language_info": {
   "codemirror_mode": {
    "name": "ipython",
    "version": 3
   },
   "file_extension": ".py",
   "mimetype": "text/x-python",
   "name": "python",
   "nbconvert_exporter": "python",
   "pygments_lexer": "ipython3",
   "version": "3.6.6"
  }
 },
 "nbformat": 4,
 "nbformat_minor": 4
}
